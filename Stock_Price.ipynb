{
  "cells": [
    {
      "cell_type": "markdown",
      "metadata": {
        "id": "qXY4rbcL1kM4"
      },
      "source": [
        "## Important Libraries"
      ]
    },
    {
      "cell_type": "code",
      "execution_count": null,
      "metadata": {
        "id": "Ybk5aoxz6zjK"
      },
      "outputs": [],
      "source": [
        "import numpy as np      # For matrix operations\n",
        "import pandas as pd     # For loading, examine, and manipulating data\n",
        "\n",
        "# For data visualization\n",
        "import matplotlib.pyplot as plt\n",
        "import seaborn as sns"
      ]
    },
    {
      "cell_type": "code",
      "execution_count": null,
      "metadata": {
        "id": "uMlrthO_AGTY"
      },
      "outputs": [],
      "source": [
        "from sklearn.preprocessing import MinMaxScaler"
      ]
    },
    {
      "cell_type": "markdown",
      "metadata": {
        "id": "N7-RhHau1uzC"
      },
      "source": [
        "## Reading the dataset"
      ]
    },
    {
      "cell_type": "markdown",
      "metadata": {
        "id": "r8MjgP6E285z"
      },
      "source": [
        "Here I downloaded the stock price weekly data for \"The PNC Financial Services Group, Inc. (PNC)\" from [Yahoo Finance](https://finance.yahoo.com/quote/PNC/?guccounter=1&guce_referrer=aHR0cHM6Ly93d3cuZ29vZ2xlLmNvbS9zZWFyY2g_cT1wbmMrc2hhcmUrcHJpY2UrbnlzZSZybHo9MUM1Q0hGQV9lbklOOTY2SU45NjYmb3E9UE5DJmFxcz1jaHJvbWUuMS42OWk1N2o2OWk1OWo0Nmk2N2kxOTlpNDMzaTQ2NWowaTY3bDJqNjlpNjBsMy4zMTQ2ajBqNyZzb3VyY2VpZD1jaHJvbWUmaWU9VVRGLTg&guce_referrer_sig=AQAAAD5qcH_IDxJal1NnhZpSvZGk-mayjkfvmijo6uEngLJN9iXPXzD_QJ_aNvthN4-xT_ERTdQSRgVkcrUJV5TaE-j12WDdW5f9l00NOtGXGJoOpHqCyhT7MmlbWBl4qay1_whTMF7gqDo_qO_e9oKIUVHlFZJwURpqHQ32dt-fI18v)."
      ]
    },
    {
      "cell_type": "code",
      "execution_count": null,
      "metadata": {
        "colab": {
          "base_uri": "https://localhost:8080/"
        },
        "id": "-Qw6pWwF7xyt",
        "outputId": "a7364289-f882-4c92-a538-c54a0e874c0e"
      },
      "outputs": [
        {
          "data": {
            "text/plain": [
              "(3021, 7)"
            ]
          },
          "execution_count": 63,
          "metadata": {},
          "output_type": "execute_result"
        }
      ],
      "source": [
        "df = pd.read_csv(\"/content/PNC.csv\", parse_dates=True)\n",
        "df.shape"
      ]
    },
    {
      "cell_type": "code",
      "execution_count": null,
      "metadata": {
        "id": "ea8FTQ3DVT9p"
      },
      "outputs": [],
      "source": [
        "# Storing date in correct format to perform various operations such as sorting.\n",
        "df['Date'] = pd.to_datetime(df['Date'])\n",
        "df = df.sort_values(by=['Date'])\n",
        "df = df.reset_index()"
      ]
    },
    {
      "cell_type": "code",
      "execution_count": null,
      "metadata": {
        "colab": {
          "base_uri": "https://localhost:8080/",
          "height": 206
        },
        "id": "9-iUmvES78P2",
        "outputId": "44401d3e-116c-4c95-fc7b-2afd0d3b10af"
      },
      "outputs": [
        {
          "data": {
            "text/html": [
              "\n",
              "  <div id=\"df-83e39884-83b0-4791-b986-42cab635023b\">\n",
              "    <div class=\"colab-df-container\">\n",
              "      <div>\n",
              "<style scoped>\n",
              "    .dataframe tbody tr th:only-of-type {\n",
              "        vertical-align: middle;\n",
              "    }\n",
              "\n",
              "    .dataframe tbody tr th {\n",
              "        vertical-align: top;\n",
              "    }\n",
              "\n",
              "    .dataframe thead th {\n",
              "        text-align: right;\n",
              "    }\n",
              "</style>\n",
              "<table border=\"1\" class=\"dataframe\">\n",
              "  <thead>\n",
              "    <tr style=\"text-align: right;\">\n",
              "      <th></th>\n",
              "      <th>index</th>\n",
              "      <th>Date</th>\n",
              "      <th>Open</th>\n",
              "      <th>High</th>\n",
              "      <th>Low</th>\n",
              "      <th>Close</th>\n",
              "      <th>Adj Close</th>\n",
              "      <th>Volume</th>\n",
              "    </tr>\n",
              "  </thead>\n",
              "  <tbody>\n",
              "    <tr>\n",
              "      <th>3016</th>\n",
              "      <td>3016</td>\n",
              "      <td>2022-12-15</td>\n",
              "      <td>147.500000</td>\n",
              "      <td>150.410004</td>\n",
              "      <td>147.070007</td>\n",
              "      <td>150.179993</td>\n",
              "      <td>150.179993</td>\n",
              "      <td>3043400</td>\n",
              "    </tr>\n",
              "    <tr>\n",
              "      <th>3017</th>\n",
              "      <td>3017</td>\n",
              "      <td>2022-12-16</td>\n",
              "      <td>148.860001</td>\n",
              "      <td>150.889999</td>\n",
              "      <td>148.050003</td>\n",
              "      <td>150.389999</td>\n",
              "      <td>150.389999</td>\n",
              "      <td>7000000</td>\n",
              "    </tr>\n",
              "    <tr>\n",
              "      <th>3018</th>\n",
              "      <td>3018</td>\n",
              "      <td>2022-12-19</td>\n",
              "      <td>150.270004</td>\n",
              "      <td>152.539993</td>\n",
              "      <td>148.940002</td>\n",
              "      <td>150.160004</td>\n",
              "      <td>150.160004</td>\n",
              "      <td>2070500</td>\n",
              "    </tr>\n",
              "    <tr>\n",
              "      <th>3019</th>\n",
              "      <td>3019</td>\n",
              "      <td>2022-12-20</td>\n",
              "      <td>150.479996</td>\n",
              "      <td>153.690002</td>\n",
              "      <td>150.350006</td>\n",
              "      <td>151.679993</td>\n",
              "      <td>151.679993</td>\n",
              "      <td>2144700</td>\n",
              "    </tr>\n",
              "    <tr>\n",
              "      <th>3020</th>\n",
              "      <td>3020</td>\n",
              "      <td>2022-12-21</td>\n",
              "      <td>153.649994</td>\n",
              "      <td>155.490005</td>\n",
              "      <td>153.259995</td>\n",
              "      <td>153.899994</td>\n",
              "      <td>153.899994</td>\n",
              "      <td>1541600</td>\n",
              "    </tr>\n",
              "  </tbody>\n",
              "</table>\n",
              "</div>\n",
              "      <button class=\"colab-df-convert\" onclick=\"convertToInteractive('df-83e39884-83b0-4791-b986-42cab635023b')\"\n",
              "              title=\"Convert this dataframe to an interactive table.\"\n",
              "              style=\"display:none;\">\n",
              "        \n",
              "  <svg xmlns=\"http://www.w3.org/2000/svg\" height=\"24px\"viewBox=\"0 0 24 24\"\n",
              "       width=\"24px\">\n",
              "    <path d=\"M0 0h24v24H0V0z\" fill=\"none\"/>\n",
              "    <path d=\"M18.56 5.44l.94 2.06.94-2.06 2.06-.94-2.06-.94-.94-2.06-.94 2.06-2.06.94zm-11 1L8.5 8.5l.94-2.06 2.06-.94-2.06-.94L8.5 2.5l-.94 2.06-2.06.94zm10 10l.94 2.06.94-2.06 2.06-.94-2.06-.94-.94-2.06-.94 2.06-2.06.94z\"/><path d=\"M17.41 7.96l-1.37-1.37c-.4-.4-.92-.59-1.43-.59-.52 0-1.04.2-1.43.59L10.3 9.45l-7.72 7.72c-.78.78-.78 2.05 0 2.83L4 21.41c.39.39.9.59 1.41.59.51 0 1.02-.2 1.41-.59l7.78-7.78 2.81-2.81c.8-.78.8-2.07 0-2.86zM5.41 20L4 18.59l7.72-7.72 1.47 1.35L5.41 20z\"/>\n",
              "  </svg>\n",
              "      </button>\n",
              "      \n",
              "  <style>\n",
              "    .colab-df-container {\n",
              "      display:flex;\n",
              "      flex-wrap:wrap;\n",
              "      gap: 12px;\n",
              "    }\n",
              "\n",
              "    .colab-df-convert {\n",
              "      background-color: #E8F0FE;\n",
              "      border: none;\n",
              "      border-radius: 50%;\n",
              "      cursor: pointer;\n",
              "      display: none;\n",
              "      fill: #1967D2;\n",
              "      height: 32px;\n",
              "      padding: 0 0 0 0;\n",
              "      width: 32px;\n",
              "    }\n",
              "\n",
              "    .colab-df-convert:hover {\n",
              "      background-color: #E2EBFA;\n",
              "      box-shadow: 0px 1px 2px rgba(60, 64, 67, 0.3), 0px 1px 3px 1px rgba(60, 64, 67, 0.15);\n",
              "      fill: #174EA6;\n",
              "    }\n",
              "\n",
              "    [theme=dark] .colab-df-convert {\n",
              "      background-color: #3B4455;\n",
              "      fill: #D2E3FC;\n",
              "    }\n",
              "\n",
              "    [theme=dark] .colab-df-convert:hover {\n",
              "      background-color: #434B5C;\n",
              "      box-shadow: 0px 1px 3px 1px rgba(0, 0, 0, 0.15);\n",
              "      filter: drop-shadow(0px 1px 2px rgba(0, 0, 0, 0.3));\n",
              "      fill: #FFFFFF;\n",
              "    }\n",
              "  </style>\n",
              "\n",
              "      <script>\n",
              "        const buttonEl =\n",
              "          document.querySelector('#df-83e39884-83b0-4791-b986-42cab635023b button.colab-df-convert');\n",
              "        buttonEl.style.display =\n",
              "          google.colab.kernel.accessAllowed ? 'block' : 'none';\n",
              "\n",
              "        async function convertToInteractive(key) {\n",
              "          const element = document.querySelector('#df-83e39884-83b0-4791-b986-42cab635023b');\n",
              "          const dataTable =\n",
              "            await google.colab.kernel.invokeFunction('convertToInteractive',\n",
              "                                                     [key], {});\n",
              "          if (!dataTable) return;\n",
              "\n",
              "          const docLinkHtml = 'Like what you see? Visit the ' +\n",
              "            '<a target=\"_blank\" href=https://colab.research.google.com/notebooks/data_table.ipynb>data table notebook</a>'\n",
              "            + ' to learn more about interactive tables.';\n",
              "          element.innerHTML = '';\n",
              "          dataTable['output_type'] = 'display_data';\n",
              "          await google.colab.output.renderOutput(dataTable, element);\n",
              "          const docLink = document.createElement('div');\n",
              "          docLink.innerHTML = docLinkHtml;\n",
              "          element.appendChild(docLink);\n",
              "        }\n",
              "      </script>\n",
              "    </div>\n",
              "  </div>\n",
              "  "
            ],
            "text/plain": [
              "      index       Date        Open        High         Low       Close  \\\n",
              "3016   3016 2022-12-15  147.500000  150.410004  147.070007  150.179993   \n",
              "3017   3017 2022-12-16  148.860001  150.889999  148.050003  150.389999   \n",
              "3018   3018 2022-12-19  150.270004  152.539993  148.940002  150.160004   \n",
              "3019   3019 2022-12-20  150.479996  153.690002  150.350006  151.679993   \n",
              "3020   3020 2022-12-21  153.649994  155.490005  153.259995  153.899994   \n",
              "\n",
              "       Adj Close   Volume  \n",
              "3016  150.179993  3043400  \n",
              "3017  150.389999  7000000  \n",
              "3018  150.160004  2070500  \n",
              "3019  151.679993  2144700  \n",
              "3020  153.899994  1541600  "
            ]
          },
          "execution_count": 65,
          "metadata": {},
          "output_type": "execute_result"
        }
      ],
      "source": [
        "df.tail()"
      ]
    },
    {
      "cell_type": "code",
      "execution_count": null,
      "metadata": {
        "colab": {
          "base_uri": "https://localhost:8080/",
          "height": 443
        },
        "id": "mj6UrPV0-sY4",
        "outputId": "d692f823-56ef-4202-fab6-c39a52207866"
      },
      "outputs": [
        {
          "data": {
            "image/png": "[encoded data removed]",
            "text/plain": [
              "<Figure size 1440x720 with 1 Axes>"
            ]
          },
          "metadata": {},
          "output_type": "display_data"
        }
      ],
      "source": [
        "# Representation of stock price over the period of time.\n",
        "\n",
        "plt.figure(figsize=(20,10))\n",
        "#df['Open'].plot()\n",
        "#df['Low'].plot()\n",
        "#df['High'].plot()\n",
        "df['Close'].plot()\n",
        "\n",
        "plt.show()"
      ]
    },
    {
      "cell_type": "markdown",
      "metadata": {
        "id": "AyrnP8SR6Wg_"
      },
      "source": [
        "Now let's"
      ]
    },
    {
      "cell_type": "code",
      "execution_count": null,
      "metadata": {
        "colab": {
          "background_save": true
        },
        "id": "Qb4ZQiQ3Dlmi"
      },
      "outputs": [],
      "source": [
        "close = df[['Close']]\n",
        "train = close.iloc[:2500]\n",
        "val = close.iloc[2500:2750]\n",
        "test = close.iloc[2750:]\n",
        "scaler = MinMaxScaler(feature_range=(0,1))\n",
        "scaler.fit(train)\n",
        "train = scaler.fit_transform(train)\n",
        "val = scaler.fit_transform(val)\n",
        "test = scaler.fit_transform(test)"
      ]
    },
    {
      "cell_type": "code",
      "execution_count": null,
      "metadata": {
        "colab": {
          "background_save": true
        },
        "id": "_5id02xVONEA"
      },
      "outputs": [],
      "source": [
        "def create_dataset(dataset, time_step):\n",
        "  dataX, dataY = [], []\n",
        "  for i in range((dataset.shape[0])-time_step):\n",
        "    dataX.append(dataset[i:i+time_step, 0])\n",
        "    dataY.append(dataset[i+time_step,0])\n",
        "\n",
        "  return np.array(dataX), np.array(dataY)"
      ]
    },
    {
      "cell_type": "code",
      "execution_count": null,
      "metadata": {
        "colab": {
          "background_save": true,
          "base_uri": "https://localhost:8080/"
        },
        "id": "5FnPf3g9P_rV",
        "outputId": "1c596b8c-9b6f-4e36-f4a4-9f00356b3542"
      },
      "outputs": [
        {
          "data": {
            "text/plain": [
              "(2500, 1)"
            ]
          },
          "execution_count": 9,
          "metadata": {},
          "output_type": "execute_result"
        }
      ],
      "source": [
        "time_step = 50\n",
        "\n",
        "X_train, y_train = create_dataset(train, time_step)\n",
        "X_val, y_val = create_dataset(val, time_step)\n",
        "\n",
        "train.shape"
      ]
    },
    {
      "cell_type": "code",
      "execution_count": null,
      "metadata": {
        "colab": {
          "base_uri": "https://localhost:8080/"
        },
        "id": "QVC0fcBuRaiU",
        "outputId": "c8094a2b-2676-4774-a3b7-2356cc3d71f6"
      },
      "outputs": [
        {
          "data": {
            "text/plain": [
              "(2450, 50, 1)"
            ]
          },
          "execution_count": 70,
          "metadata": {},
          "output_type": "execute_result"
        }
      ],
      "source": [
        "X_train = X_train.reshape(X_train.shape[0],X_train.shape[1],1)\n",
        "X_val = X_val.reshape(X_val.shape[0], X_val.shape[1],1)\n",
        "X_train.shape"
      ]
    },
    {
      "cell_type": "code",
      "execution_count": null,
      "metadata": {
        "colab": {
          "base_uri": "https://localhost:8080/"
        },
        "id": "t9T5P9p-bu0d",
        "outputId": "4e6309c8-7acf-449d-b159-2adfb7264358"
      },
      "outputs": [
        {
          "data": {
            "text/plain": [
              "(221, 50, 1)"
            ]
          },
          "execution_count": 115,
          "metadata": {},
          "output_type": "execute_result"
        }
      ],
      "source": [
        "X_test, y_test = create_dataset(test, time_step)\n",
        "X_test = X_test.reshape(X_test.shape[0],X_test.shape[1],1)\n",
        "X_test.shape"
      ]
    },
    {
      "cell_type": "code",
      "execution_count": null,
      "metadata": {
        "colab": {
          "base_uri": "https://localhost:8080/"
        },
        "id": "C47_LEzEi6xD",
        "outputId": "11bb32ba-b95e-482a-9086-9e184861ed3d"
      },
      "outputs": [
        {
          "data": {
            "text/plain": [
              "(2450, 1)"
            ]
          },
          "execution_count": 73,
          "metadata": {},
          "output_type": "execute_result"
        }
      ],
      "source": [
        "Test1 = pd.DataFrame()\n",
        "Train1 = pd.DataFrame()\n",
        "Train1['close'] = pd.DataFrame(y_train)\n",
        "Test1['close'] = df['Close'].iloc[2800:]\n",
        "Train1.shape"
      ]
    },
    {
      "cell_type": "code",
      "execution_count": null,
      "metadata": {
        "id": "PgyHDVxpDcV6"
      },
      "outputs": [],
      "source": [
        "len = 221\n",
        "b_size = 10"
      ]
    },
    {
      "cell_type": "code",
      "execution_count": null,
      "metadata": {
        "id": "8DezbKCpE-WQ"
      },
      "outputs": [],
      "source": [
        "from tensorflow.keras.models import Sequential\n",
        "from tensorflow.keras.layers import Dense,SimpleRNN,LSTM,Dropout\n",
        "from tensorflow.keras.callbacks import EarlyStopping"
      ]
    },
    {
      "cell_type": "code",
      "execution_count": null,
      "metadata": {
        "colab": {
          "background_save": true,
          "base_uri": "https://localhost:8080/"
        },
        "id": "-B7I26B-FT_9",
        "outputId": "9a4fb1c3-eb76-441c-8174-b5efa83a6804"
      },
      "outputs": [
        {
          "name": "stdout",
          "output_type": "stream",
          "text": [
            "Model: \"sequential\"\n",
            "_________________________________________________________________\n",
            " Layer (type)                Output Shape              Param #   \n",
            "=================================================================\n",
            " lstm (LSTM)                 (None, 50, 50)            10400     \n",
            "                                                                 \n",
            " lstm_1 (LSTM)               (None, 50, 50)            20200     \n",
            "                                                                 \n",
            " lstm_2 (LSTM)               (None, 50)                20200     \n",
            "                                                                 \n",
            " dense (Dense)               (None, 1)                 51        \n",
            "                                                                 \n",
            "=================================================================\n",
            "Total params: 50,851\n",
            "Trainable params: 50,851\n",
            "Non-trainable params: 0\n",
            "_________________________________________________________________\n"
          ]
        }
      ],
      "source": [
        "n_features = 1\n",
        "\n",
        "model = Sequential()\n",
        "model.add(LSTM(50, return_sequences=True, input_shape=(50, n_features)))\n",
        "model.add(LSTM(50,return_sequences=True))\n",
        "model.add(LSTM(50))\n",
        "#model.add(Dropout(rate=0.2))\n",
        "model.add(Dense(1))\n",
        "model.compile(optimizer='adam',loss='mse')\n",
        "\n",
        "model.summary()"
      ]
    },
    {
      "cell_type": "code",
      "execution_count": null,
      "metadata": {
        "colab": {
          "base_uri": "https://localhost:8080/"
        },
        "id": "TvtfBuUsFz04",
        "outputId": "b42171a1-02ce-4cda-d407-7980b2313f32"
      },
      "outputs": [
        {
          "name": "stdout",
          "output_type": "stream",
          "text": [
            "Epoch 1/50\n",
            "77/77 [==============================] - 6s 24ms/step - loss: 0.0166 - val_loss: 0.0087\n",
            "Epoch 2/50\n",
            "77/77 [==============================] - 1s 11ms/step - loss: 0.0018 - val_loss: 0.0084\n",
            "Epoch 3/50\n",
            "77/77 [==============================] - 1s 10ms/step - loss: 0.0016 - val_loss: 0.0066\n",
            "Epoch 4/50\n",
            "77/77 [==============================] - 1s 10ms/step - loss: 0.0013 - val_loss: 0.0059\n",
            "Epoch 5/50\n",
            "77/77 [==============================] - 1s 10ms/step - loss: 0.0013 - val_loss: 0.0055\n",
            "Epoch 6/50\n",
            "77/77 [==============================] - 1s 10ms/step - loss: 0.0010 - val_loss: 0.0056\n",
            "Epoch 7/50\n",
            "77/77 [==============================] - 1s 10ms/step - loss: 8.8207e-04 - val_loss: 0.0048\n",
            "Epoch 8/50\n",
            "77/77 [==============================] - 1s 11ms/step - loss: 8.3226e-04 - val_loss: 0.0052\n",
            "Epoch 9/50\n",
            "77/77 [==============================] - 1s 10ms/step - loss: 0.0011 - val_loss: 0.0045\n",
            "Epoch 10/50\n",
            "77/77 [==============================] - 1s 10ms/step - loss: 7.0219e-04 - val_loss: 0.0046\n",
            "Epoch 11/50\n",
            "77/77 [==============================] - 1s 10ms/step - loss: 8.6056e-04 - val_loss: 0.0041\n",
            "Epoch 12/50\n",
            "77/77 [==============================] - 1s 10ms/step - loss: 6.6463e-04 - val_loss: 0.0045\n",
            "Epoch 13/50\n",
            "77/77 [==============================] - 1s 10ms/step - loss: 6.1511e-04 - val_loss: 0.0041\n",
            "Epoch 14/50\n",
            "77/77 [==============================] - 1s 11ms/step - loss: 5.8854e-04 - val_loss: 0.0039\n",
            "Epoch 15/50\n",
            "77/77 [==============================] - 1s 11ms/step - loss: 5.9568e-04 - val_loss: 0.0039\n",
            "Epoch 16/50\n",
            "77/77 [==============================] - 1s 10ms/step - loss: 5.8516e-04 - val_loss: 0.0039\n",
            "Epoch 17/50\n",
            "77/77 [==============================] - 1s 10ms/step - loss: 5.9670e-04 - val_loss: 0.0032\n",
            "Epoch 18/50\n",
            "77/77 [==============================] - 1s 10ms/step - loss: 5.3311e-04 - val_loss: 0.0032\n",
            "Epoch 19/50\n",
            "77/77 [==============================] - 1s 11ms/step - loss: 5.8005e-04 - val_loss: 0.0031\n",
            "Epoch 20/50\n",
            "77/77 [==============================] - 1s 10ms/step - loss: 4.7752e-04 - val_loss: 0.0029\n",
            "Epoch 21/50\n",
            "77/77 [==============================] - 1s 10ms/step - loss: 4.7454e-04 - val_loss: 0.0029\n",
            "Epoch 22/50\n",
            "77/77 [==============================] - 1s 11ms/step - loss: 4.5716e-04 - val_loss: 0.0028\n",
            "Epoch 23/50\n",
            "77/77 [==============================] - 1s 10ms/step - loss: 4.7192e-04 - val_loss: 0.0025\n",
            "Epoch 24/50\n",
            "77/77 [==============================] - 1s 12ms/step - loss: 4.3602e-04 - val_loss: 0.0027\n",
            "Epoch 25/50\n",
            "77/77 [==============================] - 1s 15ms/step - loss: 4.3786e-04 - val_loss: 0.0025\n",
            "Epoch 26/50\n",
            "77/77 [==============================] - 1s 10ms/step - loss: 3.9556e-04 - val_loss: 0.0024\n",
            "Epoch 27/50\n",
            "77/77 [==============================] - 1s 10ms/step - loss: 4.1072e-04 - val_loss: 0.0025\n",
            "Epoch 28/50\n",
            "77/77 [==============================] - 1s 10ms/step - loss: 3.9302e-04 - val_loss: 0.0021\n",
            "Epoch 29/50\n",
            "77/77 [==============================] - 1s 11ms/step - loss: 3.9577e-04 - val_loss: 0.0021\n",
            "Epoch 30/50\n",
            "77/77 [==============================] - 1s 10ms/step - loss: 3.7201e-04 - val_loss: 0.0020\n",
            "Epoch 31/50\n",
            "77/77 [==============================] - 1s 10ms/step - loss: 3.3116e-04 - val_loss: 0.0021\n",
            "Epoch 32/50\n",
            "77/77 [==============================] - 1s 10ms/step - loss: 4.6403e-04 - val_loss: 0.0019\n",
            "Epoch 33/50\n",
            "77/77 [==============================] - 1s 10ms/step - loss: 3.1946e-04 - val_loss: 0.0025\n",
            "Epoch 34/50\n",
            "77/77 [==============================] - 1s 10ms/step - loss: 3.6005e-04 - val_loss: 0.0017\n",
            "Epoch 35/50\n",
            "77/77 [==============================] - 1s 11ms/step - loss: 3.2938e-04 - val_loss: 0.0017\n",
            "Epoch 36/50\n",
            "77/77 [==============================] - 1s 10ms/step - loss: 2.9861e-04 - val_loss: 0.0017\n",
            "Epoch 37/50\n",
            "77/77 [==============================] - 1s 11ms/step - loss: 3.1431e-04 - val_loss: 0.0017\n",
            "Epoch 38/50\n",
            "77/77 [==============================] - 1s 10ms/step - loss: 2.6676e-04 - val_loss: 0.0016\n",
            "Epoch 39/50\n",
            "77/77 [==============================] - 1s 10ms/step - loss: 2.7591e-04 - val_loss: 0.0015\n",
            "Epoch 40/50\n",
            "77/77 [==============================] - 1s 11ms/step - loss: 2.5634e-04 - val_loss: 0.0016\n",
            "Epoch 41/50\n",
            "77/77 [==============================] - 1s 10ms/step - loss: 3.0779e-04 - val_loss: 0.0016\n",
            "Epoch 42/50\n",
            "77/77 [==============================] - 1s 10ms/step - loss: 2.5828e-04 - val_loss: 0.0016\n",
            "Epoch 43/50\n",
            "77/77 [==============================] - 1s 11ms/step - loss: 2.7324e-04 - val_loss: 0.0015\n",
            "Epoch 44/50\n",
            "77/77 [==============================] - 1s 11ms/step - loss: 2.8341e-04 - val_loss: 0.0015\n",
            "Epoch 45/50\n",
            "77/77 [==============================] - 1s 11ms/step - loss: 2.4600e-04 - val_loss: 0.0015\n",
            "Epoch 46/50\n",
            "77/77 [==============================] - 1s 11ms/step - loss: 2.3491e-04 - val_loss: 0.0015\n",
            "Epoch 47/50\n",
            "77/77 [==============================] - 1s 10ms/step - loss: 2.7475e-04 - val_loss: 0.0016\n",
            "Epoch 48/50\n",
            "77/77 [==============================] - 1s 10ms/step - loss: 2.6645e-04 - val_loss: 0.0015\n",
            "Epoch 49/50\n",
            "77/77 [==============================] - 1s 10ms/step - loss: 2.5557e-04 - val_loss: 0.0015\n",
            "Epoch 50/50\n",
            "77/77 [==============================] - 1s 11ms/step - loss: 3.4800e-04 - val_loss: 0.0015\n"
          ]
        },
        {
          "data": {
            "text/plain": [
              "<keras.callbacks.History at 0x7f1cd1036400>"
            ]
          },
          "execution_count": 76,
          "metadata": {},
          "output_type": "execute_result"
        }
      ],
      "source": [
        "model.fit(X_train, y_train, validation_data=(X_val, y_val), epochs=35, batch_size=32, verbose=1)"
      ]
    },
    {
      "cell_type": "code",
      "execution_count": null,
      "metadata": {
        "colab": {
          "base_uri": "https://localhost:8080/",
          "height": 282
        },
        "id": "1B4DFK0PGuJm",
        "outputId": "bd96a11d-698d-4319-e12a-2a7c57fdb2eb"
      },
      "outputs": [
        {
          "data": {
            "text/plain": [
              "<matplotlib.axes._subplots.AxesSubplot at 0x7f1cce317430>"
            ]
          },
          "execution_count": 77,
          "metadata": {},
          "output_type": "execute_result"
        },
        {
          "data": {
            "image/png": "[encoded data removed]",
            "text/plain": [
              "<Figure size 432x288 with 1 Axes>"
            ]
          },
          "metadata": {},
          "output_type": "display_data"
        }
      ],
      "source": [
        "losses= pd.DataFrame(model.history.history)\n",
        "\n",
        "losses.plot()"
      ]
    },
    {
      "cell_type": "code",
      "execution_count": null,
      "metadata": {
        "colab": {
          "base_uri": "https://localhost:8080/"
        },
        "id": "F7z8EFQWG8SK",
        "outputId": "29e28257-a29b-480f-a60e-7d286026d2c5"
      },
      "outputs": [
        {
          "name": "stdout",
          "output_type": "stream",
          "text": [
            "77/77 [==============================] - 1s 5ms/step\n",
            "7/7 [==============================] - 0s 5ms/step\n"
          ]
        }
      ],
      "source": [
        "train_predict = scaler.inverse_transform(model.predict(X_train))\n",
        "test_predict = scaler.inverse_transform(model.predict(X_test))"
      ]
    },
    {
      "cell_type": "code",
      "execution_count": null,
      "metadata": {
        "colab": {
          "base_uri": "https://localhost:8080/"
        },
        "id": "5uz1BXvPLeZH",
        "outputId": "e8b6319a-73fb-46cb-89bd-2abda7d79bf8"
      },
      "outputs": [
        {
          "name": "stdout",
          "output_type": "stream",
          "text": [
            "1/1 [==============================] - 0s 18ms/step\n",
            "[[0.06789368]]\n"
          ]
        }
      ],
      "source": [
        "print(model.predict(X_test[220].reshape(1,50,1)))"
      ]
    },
    {
      "cell_type": "code",
      "execution_count": null,
      "metadata": {
        "colab": {
          "base_uri": "https://localhost:8080/"
        },
        "id": "adZSPG5uK2Um",
        "outputId": "7248caa3-b7d7-4aa8-8da7-0ba26ab44330"
      },
      "outputs": [
        {
          "name": "stdout",
          "output_type": "stream",
          "text": [
            "[[0.01941987]\n",
            " [0.        ]\n",
            " [0.08527332]\n",
            " [0.04456619]\n",
            " [0.12112549]\n",
            " [0.12498455]\n",
            " [0.06946349]\n",
            " [0.0231545 ]\n",
            " [0.12759865]\n",
            " [0.17826474]\n",
            " [0.21287197]\n",
            " [0.194199  ]\n",
            " [0.18523596]\n",
            " [0.20851487]\n",
            " [0.19556836]\n",
            " [0.19531934]\n",
            " [0.15697748]\n",
            " [0.08950582]\n",
            " [0.12921704]\n",
            " [0.13170673]\n",
            " [0.15610617]\n",
            " [0.11739086]\n",
            " [0.22071468]\n",
            " [0.24449147]\n",
            " [0.21374328]\n",
            " [0.2243247 ]\n",
            " [0.19332751]\n",
            " [0.15784897]\n",
            " [0.18722779]\n",
            " [0.20590077]\n",
            " [0.23478153]\n",
            " [0.25370353]\n",
            " [0.2680194 ]\n",
            " [0.2052783 ]\n",
            " [0.22718784]\n",
            " [0.27561309]\n",
            " [0.23254086]\n",
            " [0.22544505]\n",
            " [0.08701613]\n",
            " [0.07145532]\n",
            " [0.11178901]\n",
            " [0.10232791]\n",
            " [0.09909133]\n",
            " [0.13170673]\n",
            " [0.09846886]\n",
            " [0.04357027]\n",
            " [0.05054149]\n",
            " [0.05315578]\n",
            " [0.05029265]\n",
            " [0.06921446]]\n"
          ]
        }
      ],
      "source": [
        "print(X_test[220])"
      ]
    },
    {
      "cell_type": "code",
      "execution_count": null,
      "metadata": {
        "colab": {
          "base_uri": "https://localhost:8080/"
        },
        "id": "fs397JGiFiMy",
        "outputId": "92b65c57-a31d-4047-cf23-55cb72f0d0d0"
      },
      "outputs": [
        {
          "name": "stdout",
          "output_type": "stream",
          "text": [
            "1/1 [==============================] - 0s 20ms/step\n"
          ]
        },
        {
          "data": {
            "text/plain": [
              "array([[151.5739]], dtype=float32)"
            ]
          },
          "execution_count": 79,
          "metadata": {},
          "output_type": "execute_result"
        }
      ],
      "source": [
        "scaler.inverse_transform(model.predict(X_test[220].reshape(1,50,1)))"
      ]
    },
    {
      "cell_type": "code",
      "execution_count": null,
      "metadata": {
        "colab": {
          "base_uri": "https://localhost:8080/"
        },
        "id": "gdP9oP8mI5c1",
        "outputId": "3836c463-f0db-4ced-9835-4109bc11ffef"
      },
      "outputs": [
        {
          "name": "stdout",
          "output_type": "stream",
          "text": [
            "[[151.699997  ]\n",
            " [147.979996  ]\n",
            " [156.369995  ]\n",
            " [160.440002  ]\n",
            " [163.220001  ]\n",
            " [161.720001  ]\n",
            " [161.        ]\n",
            " [162.869995  ]\n",
            " [161.830002  ]\n",
            " [161.809998  ]\n",
            " [158.729996  ]\n",
            " [153.309998  ]\n",
            " [156.5       ]\n",
            " [156.699997  ]\n",
            " [158.660004  ]\n",
            " [155.550003  ]\n",
            " [163.850006  ]\n",
            " [165.759995  ]\n",
            " [163.289993  ]\n",
            " [164.139999  ]\n",
            " [161.649994  ]\n",
            " [158.800003  ]\n",
            " [161.160004  ]\n",
            " [162.660004  ]\n",
            " [164.979996  ]\n",
            " [166.5       ]\n",
            " [167.649994  ]\n",
            " [162.610001  ]\n",
            " [164.369995  ]\n",
            " [168.259995  ]\n",
            " [164.800003  ]\n",
            " [164.229996  ]\n",
            " [153.110001  ]\n",
            " [151.860001  ]\n",
            " [155.100006  ]\n",
            " [154.339996  ]\n",
            " [154.080002  ]\n",
            " [156.699997  ]\n",
            " [154.029999  ]\n",
            " [149.619995  ]\n",
            " [150.179993  ]\n",
            " [150.389999  ]\n",
            " [150.160004  ]\n",
            " [151.679993  ]\n",
            " [151.57389476]\n",
            " [151.91911613]\n",
            " [152.24145724]\n",
            " [152.49632886]\n",
            " [152.69026608]\n",
            " [152.84247492]]\n"
          ]
        }
      ],
      "source": [
        "print(scaler.inverse_transform(X_test[220]))"
      ]
    },
    {
      "cell_type": "code",
      "execution_count": null,
      "metadata": {
        "colab": {
          "base_uri": "https://localhost:8080/"
        },
        "id": "tRCPnwr6KYTM",
        "outputId": "5a0ebf8a-afce-411e-c1ba-b8cffd658a07"
      },
      "outputs": [
        {
          "name": "stdout",
          "output_type": "stream",
          "text": [
            "1/1 [==============================] - 0s 18ms/step\n",
            "1/1 [==============================] - 0s 15ms/step\n",
            "1/1 [==============================] - 0s 19ms/step\n",
            "1/1 [==============================] - 0s 16ms/step\n",
            "1/1 [==============================] - 0s 17ms/step\n",
            "1/1 [==============================] - 0s 18ms/step\n"
          ]
        }
      ],
      "source": [
        "for i in range(0,6):\n",
        "  new_res = model.predict(X_test[220].reshape(1,50,1))\n",
        "  #temp = np.del\n",
        "  X_test[220] = np.append(np.delete(X_test[220],0, axis=0), new_res, axis=0)"
      ]
    },
    {
      "cell_type": "code",
      "execution_count": null,
      "metadata": {
        "colab": {
          "base_uri": "https://localhost:8080/"
        },
        "id": "tmtP-Dc8T3h6",
        "outputId": "977f1860-8401-4efa-96c0-b93b50019dc1"
      },
      "outputs": [
        {
          "data": {
            "text/plain": [
              "183.67211890101277"
            ]
          },
          "execution_count": 80,
          "metadata": {},
          "output_type": "execute_result"
        }
      ],
      "source": [
        "import math\n",
        "from sklearn.metrics import mean_squared_error\n",
        "\n",
        "math.sqrt(mean_squared_error(y_train, train_predict))"
      ]
    },
    {
      "cell_type": "code",
      "execution_count": null,
      "metadata": {
        "colab": {
          "base_uri": "https://localhost:8080/"
        },
        "id": "gIQZyjhhT4mV",
        "outputId": "70d35480-1e17-4dd6-8d24-37b84792724f"
      },
      "outputs": [
        {
          "data": {
            "text/plain": [
              "169.0214787834231"
            ]
          },
          "execution_count": 81,
          "metadata": {},
          "output_type": "execute_result"
        }
      ],
      "source": [
        "math.sqrt(mean_squared_error(y_test, test_predict))"
      ]
    },
    {
      "cell_type": "code",
      "execution_count": null,
      "metadata": {
        "colab": {
          "base_uri": "https://localhost:8080/"
        },
        "id": "NDWgwpU2dxgH",
        "outputId": "d7340ae4-3862-490d-b5f8-4036f36fa8d5"
      },
      "outputs": [
        {
          "name": "stdout",
          "output_type": "stream",
          "text": [
            "77/77 [==============================] - 0s 5ms/step\n"
          ]
        }
      ],
      "source": [
        "Test1['pred'] = test_predict\n",
        "Train1['pred'] = model.predict(X_train)"
      ]
    },
    {
      "cell_type": "code",
      "execution_count": null,
      "metadata": {
        "colab": {
          "base_uri": "https://localhost:8080/",
          "height": 424
        },
        "id": "BYljX1h5dzue",
        "outputId": "0ae97f37-d22a-4ef8-f539-193f15ff0d0f"
      },
      "outputs": [
        {
          "data": {
            "text/html": [
              "\n",
              "  <div id=\"df-39219615-561e-4485-abe3-933dc7ce28d4\">\n",
              "    <div class=\"colab-df-container\">\n",
              "      <div>\n",
              "<style scoped>\n",
              "    .dataframe tbody tr th:only-of-type {\n",
              "        vertical-align: middle;\n",
              "    }\n",
              "\n",
              "    .dataframe tbody tr th {\n",
              "        vertical-align: top;\n",
              "    }\n",
              "\n",
              "    .dataframe thead th {\n",
              "        text-align: right;\n",
              "    }\n",
              "</style>\n",
              "<table border=\"1\" class=\"dataframe\">\n",
              "  <thead>\n",
              "    <tr style=\"text-align: right;\">\n",
              "      <th></th>\n",
              "      <th>close</th>\n",
              "      <th>pred</th>\n",
              "    </tr>\n",
              "  </thead>\n",
              "  <tbody>\n",
              "    <tr>\n",
              "      <th>2800</th>\n",
              "      <td>209.699997</td>\n",
              "      <td>209.764175</td>\n",
              "    </tr>\n",
              "    <tr>\n",
              "      <th>2801</th>\n",
              "      <td>211.360001</td>\n",
              "      <td>210.250336</td>\n",
              "    </tr>\n",
              "    <tr>\n",
              "      <th>2802</th>\n",
              "      <td>210.759995</td>\n",
              "      <td>211.516571</td>\n",
              "    </tr>\n",
              "    <tr>\n",
              "      <th>2803</th>\n",
              "      <td>210.630005</td>\n",
              "      <td>210.817444</td>\n",
              "    </tr>\n",
              "    <tr>\n",
              "      <th>2804</th>\n",
              "      <td>207.360001</td>\n",
              "      <td>210.291962</td>\n",
              "    </tr>\n",
              "    <tr>\n",
              "      <th>...</th>\n",
              "      <td>...</td>\n",
              "      <td>...</td>\n",
              "    </tr>\n",
              "    <tr>\n",
              "      <th>3016</th>\n",
              "      <td>150.179993</td>\n",
              "      <td>154.209488</td>\n",
              "    </tr>\n",
              "    <tr>\n",
              "      <th>3017</th>\n",
              "      <td>150.389999</td>\n",
              "      <td>152.650452</td>\n",
              "    </tr>\n",
              "    <tr>\n",
              "      <th>3018</th>\n",
              "      <td>150.160004</td>\n",
              "      <td>151.770615</td>\n",
              "    </tr>\n",
              "    <tr>\n",
              "      <th>3019</th>\n",
              "      <td>151.679993</td>\n",
              "      <td>151.381332</td>\n",
              "    </tr>\n",
              "    <tr>\n",
              "      <th>3020</th>\n",
              "      <td>153.899994</td>\n",
              "      <td>151.573898</td>\n",
              "    </tr>\n",
              "  </tbody>\n",
              "</table>\n",
              "<p>221 rows × 2 columns</p>\n",
              "</div>\n",
              "      <button class=\"colab-df-convert\" onclick=\"convertToInteractive('df-39219615-561e-4485-abe3-933dc7ce28d4')\"\n",
              "              title=\"Convert this dataframe to an interactive table.\"\n",
              "              style=\"display:none;\">\n",
              "        \n",
              "  <svg xmlns=\"http://www.w3.org/2000/svg\" height=\"24px\"viewBox=\"0 0 24 24\"\n",
              "       width=\"24px\">\n",
              "    <path d=\"M0 0h24v24H0V0z\" fill=\"none\"/>\n",
              "    <path d=\"M18.56 5.44l.94 2.06.94-2.06 2.06-.94-2.06-.94-.94-2.06-.94 2.06-2.06.94zm-11 1L8.5 8.5l.94-2.06 2.06-.94-2.06-.94L8.5 2.5l-.94 2.06-2.06.94zm10 10l.94 2.06.94-2.06 2.06-.94-2.06-.94-.94-2.06-.94 2.06-2.06.94z\"/><path d=\"M17.41 7.96l-1.37-1.37c-.4-.4-.92-.59-1.43-.59-.52 0-1.04.2-1.43.59L10.3 9.45l-7.72 7.72c-.78.78-.78 2.05 0 2.83L4 21.41c.39.39.9.59 1.41.59.51 0 1.02-.2 1.41-.59l7.78-7.78 2.81-2.81c.8-.78.8-2.07 0-2.86zM5.41 20L4 18.59l7.72-7.72 1.47 1.35L5.41 20z\"/>\n",
              "  </svg>\n",
              "      </button>\n",
              "      \n",
              "  <style>\n",
              "    .colab-df-container {\n",
              "      display:flex;\n",
              "      flex-wrap:wrap;\n",
              "      gap: 12px;\n",
              "    }\n",
              "\n",
              "    .colab-df-convert {\n",
              "      background-color: #E8F0FE;\n",
              "      border: none;\n",
              "      border-radius: 50%;\n",
              "      cursor: pointer;\n",
              "      display: none;\n",
              "      fill: #1967D2;\n",
              "      height: 32px;\n",
              "      padding: 0 0 0 0;\n",
              "      width: 32px;\n",
              "    }\n",
              "\n",
              "    .colab-df-convert:hover {\n",
              "      background-color: #E2EBFA;\n",
              "      box-shadow: 0px 1px 2px rgba(60, 64, 67, 0.3), 0px 1px 3px 1px rgba(60, 64, 67, 0.15);\n",
              "      fill: #174EA6;\n",
              "    }\n",
              "\n",
              "    [theme=dark] .colab-df-convert {\n",
              "      background-color: #3B4455;\n",
              "      fill: #D2E3FC;\n",
              "    }\n",
              "\n",
              "    [theme=dark] .colab-df-convert:hover {\n",
              "      background-color: #434B5C;\n",
              "      box-shadow: 0px 1px 3px 1px rgba(0, 0, 0, 0.15);\n",
              "      filter: drop-shadow(0px 1px 2px rgba(0, 0, 0, 0.3));\n",
              "      fill: #FFFFFF;\n",
              "    }\n",
              "  </style>\n",
              "\n",
              "      <script>\n",
              "        const buttonEl =\n",
              "          document.querySelector('#df-39219615-561e-4485-abe3-933dc7ce28d4 button.colab-df-convert');\n",
              "        buttonEl.style.display =\n",
              "          google.colab.kernel.accessAllowed ? 'block' : 'none';\n",
              "\n",
              "        async function convertToInteractive(key) {\n",
              "          const element = document.querySelector('#df-39219615-561e-4485-abe3-933dc7ce28d4');\n",
              "          const dataTable =\n",
              "            await google.colab.kernel.invokeFunction('convertToInteractive',\n",
              "                                                     [key], {});\n",
              "          if (!dataTable) return;\n",
              "\n",
              "          const docLinkHtml = 'Like what you see? Visit the ' +\n",
              "            '<a target=\"_blank\" href=https://colab.research.google.com/notebooks/data_table.ipynb>data table notebook</a>'\n",
              "            + ' to learn more about interactive tables.';\n",
              "          element.innerHTML = '';\n",
              "          dataTable['output_type'] = 'display_data';\n",
              "          await google.colab.output.renderOutput(dataTable, element);\n",
              "          const docLink = document.createElement('div');\n",
              "          docLink.innerHTML = docLinkHtml;\n",
              "          element.appendChild(docLink);\n",
              "        }\n",
              "      </script>\n",
              "    </div>\n",
              "  </div>\n",
              "  "
            ],
            "text/plain": [
              "           close        pred\n",
              "2800  209.699997  209.764175\n",
              "2801  211.360001  210.250336\n",
              "2802  210.759995  211.516571\n",
              "2803  210.630005  210.817444\n",
              "2804  207.360001  210.291962\n",
              "...          ...         ...\n",
              "3016  150.179993  154.209488\n",
              "3017  150.389999  152.650452\n",
              "3018  150.160004  151.770615\n",
              "3019  151.679993  151.381332\n",
              "3020  153.899994  151.573898\n",
              "\n",
              "[221 rows x 2 columns]"
            ]
          },
          "execution_count": 83,
          "metadata": {},
          "output_type": "execute_result"
        }
      ],
      "source": [
        "Test1"
      ]
    },
    {
      "cell_type": "code",
      "execution_count": null,
      "metadata": {
        "colab": {
          "base_uri": "https://localhost:8080/",
          "height": 778
        },
        "id": "YxV15mp8ergs",
        "outputId": "7c2bf887-90ee-403c-8515-2dcc00b9e81d"
      },
      "outputs": [
        {
          "data": {
            "text/plain": [
              "<Figure size 1440x720 with 0 Axes>"
            ]
          },
          "metadata": {},
          "output_type": "display_data"
        },
        {
          "data": {
            "image/png": "[encoded data removed]",
            "text/plain": [
              "<Figure size 432x288 with 1 Axes>"
            ]
          },
          "metadata": {},
          "output_type": "display_data"
        },
        {
          "data": {
            "image/png": "[encoded data removed]",
            "text/plain": [
              "<Figure size 432x288 with 1 Axes>"
            ]
          },
          "metadata": {},
          "output_type": "display_data"
        },
        {
          "data": {
            "image/png": "[encoded data removed]",
            "text/plain": [
              "<Figure size 432x288 with 1 Axes>"
            ]
          },
          "metadata": {},
          "output_type": "display_data"
        }
      ],
      "source": [
        "plt.figure(figsize=(20,10))\n",
        "Train1.plot()\n",
        "Test1.plot()\n",
        "pd.DataFrame(scaler.inverse_transform(X_test[220])).plot()\n",
        "plt.show()"
      ]
    },
    {
      "cell_type": "code",
      "execution_count": null,
      "metadata": {
        "id": "X7RRzx4bYuhj"
      },
      "outputs": [],
      "source": [
        "plt.figure(figsize=(20,10))\n",
        "Train1.plot()"
      ]
    },
    {
      "cell_type": "code",
      "execution_count": null,
      "metadata": {
        "id": "jsCvL10veld8"
      },
      "outputs": [],
      "source": [
        "df1 = pd.read_csv(\"/content/NIFTY 50_Data (1).csv\", parse_dates=True)\n",
        "df1.shape"
      ]
    },
    {
      "cell_type": "code",
      "execution_count": null,
      "metadata": {
        "id": "5uikZ5sClSOI"
      },
      "outputs": [],
      "source": [
        "c = df1[['Close']]\n",
        "tr = c\n",
        "scaler = MinMaxScaler(feature_range=(0,1))\n",
        "scaler.fit(tr)\n",
        "tr = scaler.fit_transform(tr)"
      ]
    },
    {
      "cell_type": "code",
      "execution_count": null,
      "metadata": {
        "id": "Wv7PqV7znSnY"
      },
      "outputs": [],
      "source": [
        "time_step = 50\n",
        "\n",
        "X_tr, y_tr = create_dataset(tr, time_step)"
      ]
    },
    {
      "cell_type": "code",
      "execution_count": null,
      "metadata": {
        "id": "Om2l9C9zz6R-"
      },
      "outputs": [],
      "source": [
        "scaler.inverse_transform(y_tr.reshape(-1,1))"
      ]
    },
    {
      "cell_type": "code",
      "execution_count": null,
      "metadata": {
        "id": "kGJ2HJVps3Jv"
      },
      "outputs": [],
      "source": [
        "X_tr.shape"
      ]
    },
    {
      "cell_type": "code",
      "execution_count": null,
      "metadata": {
        "id": "7fncXaGNneRW"
      },
      "outputs": [],
      "source": [
        "X_tr = X_tr.reshape(13,50,1)\n",
        "print(scaler.inverse_transform(X_tr[12][:]))"
      ]
    },
    {
      "cell_type": "code",
      "execution_count": null,
      "metadata": {
        "id": "3i1xbBO31Ckg"
      },
      "outputs": [],
      "source": [
        "tpred = scaler.inverse_transform(model.predict(X_tr))\n",
        "tpred"
      ]
    },
    {
      "cell_type": "code",
      "execution_count": null,
      "metadata": {
        "id": "ouMKQmD1nhAm"
      },
      "outputs": [],
      "source": [
        "Test2 = pd.DataFrame()\n",
        "Test2['Open'] = df1['Open'].iloc[48:61]\n",
        "Test2['Close'] = df1['Close'].iloc[48:61]\n",
        "Test2['Pred'] = tpred\n",
        "Test2['Profit'] = Test2['Close']-Test2['Open']\n",
        "Test2['Preprofit'] = Test2['Pred']-Test2['Open']\n",
        "Test2.head(14)"
      ]
    },
    {
      "cell_type": "code",
      "execution_count": null,
      "metadata": {
        "id": "jWdqBUVWrn02"
      },
      "outputs": [],
      "source": [
        "plt.figure(figsize=(20,10))\n",
        "Test2[['Close','Pred']].plot()"
      ]
    },
    {
      "cell_type": "code",
      "execution_count": null,
      "metadata": {
        "colab": {
          "base_uri": "https://localhost:8080/"
        },
        "id": "e27FPnkIr3tF",
        "outputId": "fd3e0154-6555-463d-d57f-766c0165e82d"
      },
      "outputs": [
        {
          "data": {
            "text/plain": [
              "array([[147.679993],\n",
              "       [146.119995],\n",
              "       [152.970001],\n",
              "       [149.699997],\n",
              "       [155.850006],\n",
              "       [156.160004],\n",
              "       [151.699997],\n",
              "       [147.979996],\n",
              "       [156.369995],\n",
              "       [160.440002],\n",
              "       [163.220001],\n",
              "       [161.720001],\n",
              "       [161.      ],\n",
              "       [162.869995],\n",
              "       [161.830002],\n",
              "       [161.809998],\n",
              "       [158.729996],\n",
              "       [153.309998],\n",
              "       [156.5     ],\n",
              "       [156.699997],\n",
              "       [158.660004],\n",
              "       [155.550003],\n",
              "       [163.850006],\n",
              "       [165.759995],\n",
              "       [163.289993],\n",
              "       [164.139999],\n",
              "       [161.649994],\n",
              "       [158.800003],\n",
              "       [161.160004],\n",
              "       [162.660004],\n",
              "       [164.979996],\n",
              "       [166.5     ],\n",
              "       [167.649994],\n",
              "       [162.610001],\n",
              "       [164.369995],\n",
              "       [168.259995],\n",
              "       [164.800003],\n",
              "       [164.229996],\n",
              "       [153.110001],\n",
              "       [151.860001],\n",
              "       [155.100006],\n",
              "       [154.339996],\n",
              "       [154.080002],\n",
              "       [156.699997],\n",
              "       [154.029999],\n",
              "       [149.619995],\n",
              "       [150.179993],\n",
              "       [150.389999],\n",
              "       [150.160004],\n",
              "       [151.679993]])"
            ]
          },
          "execution_count": 86,
          "metadata": {},
          "output_type": "execute_result"
        }
      ],
      "source": [
        "scaler.inverse_transform(X_test[220])"
      ]
    },
    {
      "cell_type": "code",
      "execution_count": null,
      "metadata": {
        "id": "tVL3KMQf4eDJ"
      },
      "outputs": [],
      "source": []
    }
  ],
  "metadata": {
    "accelerator": "GPU",
    "colab": {
      "provenance": []
    },
    "gpuClass": "standard",
    "kernelspec": {
      "display_name": "Python 3",
      "name": "python3"
    },
    "language_info": {
      "name": "python"
    }
  },
  "nbformat": 4,
  "nbformat_minor": 0
}